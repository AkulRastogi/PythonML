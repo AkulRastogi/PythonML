{
  "nbformat": 4,
  "nbformat_minor": 0,
  "metadata": {
    "colab": {
      "name": "NumPY-Arrays.ipynb",
      "provenance": [],
      "authorship_tag": "ABX9TyOgK2HmkIOp6IOzd1dpGZPt",
      "include_colab_link": true
    },
    "kernelspec": {
      "name": "python3",
      "display_name": "Python 3"
    },
    "language_info": {
      "name": "python"
    }
  },
  "cells": [
    {
      "cell_type": "markdown",
      "metadata": {
        "id": "view-in-github",
        "colab_type": "text"
      },
      "source": [
        "<a href=\"https://colab.research.google.com/github/AkulRastogi/PythonML/blob/master/NumPY_Arrays.ipynb\" target=\"_parent\"><img src=\"https://colab.research.google.com/assets/colab-badge.svg\" alt=\"Open In Colab\"/></a>"
      ]
    },
    {
      "cell_type": "code",
      "metadata": {
        "id": "A4aQFMRluOVT"
      },
      "source": [
        "import numpy as np"
      ],
      "execution_count": 1,
      "outputs": []
    },
    {
      "cell_type": "code",
      "metadata": {
        "id": "cnlG1cYvvXi_"
      },
      "source": [
        "mylist = [1, 2, 3]\n",
        "np_array = np.array(mylist)"
      ],
      "execution_count": 2,
      "outputs": []
    },
    {
      "cell_type": "code",
      "metadata": {
        "colab": {
          "base_uri": "https://localhost:8080/"
        },
        "id": "1QFIuG_8wObF",
        "outputId": "e805da68-cb73-4d51-9273-4f40fc08d762"
      },
      "source": [
        "type(np_array)"
      ],
      "execution_count": 3,
      "outputs": [
        {
          "output_type": "execute_result",
          "data": {
            "text/plain": [
              "numpy.ndarray"
            ]
          },
          "metadata": {
            "tags": []
          },
          "execution_count": 3
        }
      ]
    },
    {
      "cell_type": "code",
      "metadata": {
        "id": "OjLI9GeLwRl9"
      },
      "source": [
        "mymatrix = [[1,2,3], [4,5,6], [7,8,9]]\n",
        "np_matrix = np.array(mymatrix)"
      ],
      "execution_count": 4,
      "outputs": []
    },
    {
      "cell_type": "code",
      "metadata": {
        "colab": {
          "base_uri": "https://localhost:8080/"
        },
        "id": "c32c5PkEwtd1",
        "outputId": "d0e96497-f324-46c3-b23c-beabb092e9c6"
      },
      "source": [
        "type(np_matrix)"
      ],
      "execution_count": 5,
      "outputs": [
        {
          "output_type": "execute_result",
          "data": {
            "text/plain": [
              "numpy.ndarray"
            ]
          },
          "metadata": {
            "tags": []
          },
          "execution_count": 5
        }
      ]
    },
    {
      "cell_type": "code",
      "metadata": {
        "colab": {
          "base_uri": "https://localhost:8080/"
        },
        "id": "II94EBPLwvxt",
        "outputId": "208ab991-1670-4bbe-f971-ced9b1672797"
      },
      "source": [
        "np_array"
      ],
      "execution_count": 6,
      "outputs": [
        {
          "output_type": "execute_result",
          "data": {
            "text/plain": [
              "array([1, 2, 3])"
            ]
          },
          "metadata": {
            "tags": []
          },
          "execution_count": 6
        }
      ]
    },
    {
      "cell_type": "code",
      "metadata": {
        "colab": {
          "base_uri": "https://localhost:8080/"
        },
        "id": "TMLFb0aJwy30",
        "outputId": "f8131a1e-d5b3-4bf9-fc7b-ca33430bdb0c"
      },
      "source": [
        "np_matrix"
      ],
      "execution_count": 7,
      "outputs": [
        {
          "output_type": "execute_result",
          "data": {
            "text/plain": [
              "array([[1, 2, 3],\n",
              "       [4, 5, 6],\n",
              "       [7, 8, 9]])"
            ]
          },
          "metadata": {
            "tags": []
          },
          "execution_count": 7
        }
      ]
    },
    {
      "cell_type": "code",
      "metadata": {
        "colab": {
          "base_uri": "https://localhost:8080/"
        },
        "id": "UoyY9YmQw01N",
        "outputId": "6c5ca835-78f8-4892-c095-ec8c56baece2"
      },
      "source": [
        "np.array([1,2,3])"
      ],
      "execution_count": 8,
      "outputs": [
        {
          "output_type": "execute_result",
          "data": {
            "text/plain": [
              "array([1, 2, 3])"
            ]
          },
          "metadata": {
            "tags": []
          },
          "execution_count": 8
        }
      ]
    },
    {
      "cell_type": "code",
      "metadata": {
        "colab": {
          "base_uri": "https://localhost:8080/"
        },
        "id": "0OPN3AGVx_7d",
        "outputId": "03220b0f-7e76-41b2-96a7-0fcb9d9b717a"
      },
      "source": [
        "np.arange(0, 10)"
      ],
      "execution_count": 9,
      "outputs": [
        {
          "output_type": "execute_result",
          "data": {
            "text/plain": [
              "array([0, 1, 2, 3, 4, 5, 6, 7, 8, 9])"
            ]
          },
          "metadata": {
            "tags": []
          },
          "execution_count": 9
        }
      ]
    },
    {
      "cell_type": "code",
      "metadata": {
        "colab": {
          "base_uri": "https://localhost:8080/"
        },
        "id": "xJGfVJdNyPdc",
        "outputId": "a220597e-9313-4467-ef14-8a8898f5991c"
      },
      "source": [
        "np.arange(0, 9000, 3345)"
      ],
      "execution_count": 12,
      "outputs": [
        {
          "output_type": "execute_result",
          "data": {
            "text/plain": [
              "array([   0, 3345, 6690])"
            ]
          },
          "metadata": {
            "tags": []
          },
          "execution_count": 12
        }
      ]
    },
    {
      "cell_type": "code",
      "metadata": {
        "colab": {
          "base_uri": "https://localhost:8080/"
        },
        "id": "2uQxldwtysfN",
        "outputId": "bfb5c36d-1c7d-4854-d1c7-f12efaa903e7"
      },
      "source": [
        "np.zeros(3)"
      ],
      "execution_count": 13,
      "outputs": [
        {
          "output_type": "execute_result",
          "data": {
            "text/plain": [
              "array([0., 0., 0.])"
            ]
          },
          "metadata": {
            "tags": []
          },
          "execution_count": 13
        }
      ]
    },
    {
      "cell_type": "code",
      "metadata": {
        "colab": {
          "base_uri": "https://localhost:8080/"
        },
        "id": "NW3Hxwhf0GF8",
        "outputId": "be6f4b08-6837-4008-da8b-eb7bb4a44e71"
      },
      "source": [
        "np.ones(4)"
      ],
      "execution_count": 14,
      "outputs": [
        {
          "output_type": "execute_result",
          "data": {
            "text/plain": [
              "array([1., 1., 1., 1.])"
            ]
          },
          "metadata": {
            "tags": []
          },
          "execution_count": 14
        }
      ]
    },
    {
      "cell_type": "code",
      "metadata": {
        "colab": {
          "base_uri": "https://localhost:8080/"
        },
        "id": "aqeJNlMg0Rir",
        "outputId": "c3c4c270-3c73-4a83-af61-beb00f0c341f"
      },
      "source": [
        "np.ones((2,3,4), dtype = int)"
      ],
      "execution_count": 16,
      "outputs": [
        {
          "output_type": "execute_result",
          "data": {
            "text/plain": [
              "array([[[1, 1, 1, 1],\n",
              "        [1, 1, 1, 1],\n",
              "        [1, 1, 1, 1]],\n",
              "\n",
              "       [[1, 1, 1, 1],\n",
              "        [1, 1, 1, 1],\n",
              "        [1, 1, 1, 1]]])"
            ]
          },
          "metadata": {
            "tags": []
          },
          "execution_count": 16
        }
      ]
    },
    {
      "cell_type": "code",
      "metadata": {
        "colab": {
          "base_uri": "https://localhost:8080/"
        },
        "id": "9EW0lP7C0kb8",
        "outputId": "fe2a76c0-00ca-4c8c-d817-4808231bb3b2"
      },
      "source": [
        "np.ones((2,3,4, 5), dtype = int)"
      ],
      "execution_count": 17,
      "outputs": [
        {
          "output_type": "execute_result",
          "data": {
            "text/plain": [
              "array([[[[1, 1, 1, 1, 1],\n",
              "         [1, 1, 1, 1, 1],\n",
              "         [1, 1, 1, 1, 1],\n",
              "         [1, 1, 1, 1, 1]],\n",
              "\n",
              "        [[1, 1, 1, 1, 1],\n",
              "         [1, 1, 1, 1, 1],\n",
              "         [1, 1, 1, 1, 1],\n",
              "         [1, 1, 1, 1, 1]],\n",
              "\n",
              "        [[1, 1, 1, 1, 1],\n",
              "         [1, 1, 1, 1, 1],\n",
              "         [1, 1, 1, 1, 1],\n",
              "         [1, 1, 1, 1, 1]]],\n",
              "\n",
              "\n",
              "       [[[1, 1, 1, 1, 1],\n",
              "         [1, 1, 1, 1, 1],\n",
              "         [1, 1, 1, 1, 1],\n",
              "         [1, 1, 1, 1, 1]],\n",
              "\n",
              "        [[1, 1, 1, 1, 1],\n",
              "         [1, 1, 1, 1, 1],\n",
              "         [1, 1, 1, 1, 1],\n",
              "         [1, 1, 1, 1, 1]],\n",
              "\n",
              "        [[1, 1, 1, 1, 1],\n",
              "         [1, 1, 1, 1, 1],\n",
              "         [1, 1, 1, 1, 1],\n",
              "         [1, 1, 1, 1, 1]]]])"
            ]
          },
          "metadata": {
            "tags": []
          },
          "execution_count": 17
        }
      ]
    },
    {
      "cell_type": "code",
      "metadata": {
        "colab": {
          "base_uri": "https://localhost:8080/"
        },
        "id": "IxNPb7i10qzL",
        "outputId": "7465ef1b-0e56-4382-aaa4-ed6bfdc16e50"
      },
      "source": [
        "np.linspace(0, 10, 2, dtype = int)"
      ],
      "execution_count": 24,
      "outputs": [
        {
          "output_type": "execute_result",
          "data": {
            "text/plain": [
              "array([ 0, 10])"
            ]
          },
          "metadata": {
            "tags": []
          },
          "execution_count": 24
        }
      ]
    },
    {
      "cell_type": "code",
      "metadata": {
        "colab": {
          "base_uri": "https://localhost:8080/"
        },
        "id": "6kNbduty1hbH",
        "outputId": "b0b5739d-1bb2-47ca-a751-f18448f7b276"
      },
      "source": [
        "np.linspace(0, 0, 2)"
      ],
      "execution_count": 25,
      "outputs": [
        {
          "output_type": "execute_result",
          "data": {
            "text/plain": [
              "array([0., 0.])"
            ]
          },
          "metadata": {
            "tags": []
          },
          "execution_count": 25
        }
      ]
    },
    {
      "cell_type": "code",
      "metadata": {
        "colab": {
          "base_uri": "https://localhost:8080/"
        },
        "id": "LIXAmI7t2MNv",
        "outputId": "eecc306d-2853-4f4a-8fda-059b185c1d61"
      },
      "source": [
        "np.arange(0,10, 2)"
      ],
      "execution_count": 27,
      "outputs": [
        {
          "output_type": "execute_result",
          "data": {
            "text/plain": [
              "array([0, 2, 4, 6, 8])"
            ]
          },
          "metadata": {
            "tags": []
          },
          "execution_count": 27
        }
      ]
    },
    {
      "cell_type": "code",
      "metadata": {
        "colab": {
          "base_uri": "https://localhost:8080/"
        },
        "id": "BHT4nalB2W5Y",
        "outputId": "1bf56ce1-afb7-4cd2-94bd-74bf40572eaf"
      },
      "source": [
        "np.eye(9, dtype = int)"
      ],
      "execution_count": 28,
      "outputs": [
        {
          "output_type": "execute_result",
          "data": {
            "text/plain": [
              "array([[1, 0, 0, 0, 0, 0, 0, 0, 0],\n",
              "       [0, 1, 0, 0, 0, 0, 0, 0, 0],\n",
              "       [0, 0, 1, 0, 0, 0, 0, 0, 0],\n",
              "       [0, 0, 0, 1, 0, 0, 0, 0, 0],\n",
              "       [0, 0, 0, 0, 1, 0, 0, 0, 0],\n",
              "       [0, 0, 0, 0, 0, 1, 0, 0, 0],\n",
              "       [0, 0, 0, 0, 0, 0, 1, 0, 0],\n",
              "       [0, 0, 0, 0, 0, 0, 0, 1, 0],\n",
              "       [0, 0, 0, 0, 0, 0, 0, 0, 1]])"
            ]
          },
          "metadata": {
            "tags": []
          },
          "execution_count": 28
        }
      ]
    },
    {
      "cell_type": "code",
      "metadata": {
        "colab": {
          "base_uri": "https://localhost:8080/"
        },
        "id": "i3Zmswv13kRZ",
        "outputId": "142ae236-c2d9-49d1-c013-064b2d32f827"
      },
      "source": [
        "np.random.rand(7)"
      ],
      "execution_count": 29,
      "outputs": [
        {
          "output_type": "execute_result",
          "data": {
            "text/plain": [
              "array([0.16617105, 0.30683786, 0.54315329, 0.47462374, 0.93473763,\n",
              "       0.18056559, 0.00735558])"
            ]
          },
          "metadata": {
            "tags": []
          },
          "execution_count": 29
        }
      ]
    },
    {
      "cell_type": "code",
      "metadata": {
        "colab": {
          "base_uri": "https://localhost:8080/"
        },
        "id": "t923-_m14P9w",
        "outputId": "c18c2a1b-5603-4c9b-8e30-fb03af72f741"
      },
      "source": [
        "np.random.rand(2,2)"
      ],
      "execution_count": 31,
      "outputs": [
        {
          "output_type": "execute_result",
          "data": {
            "text/plain": [
              "array([[0.24186977, 0.12204565],\n",
              "       [0.4947004 , 0.44180758]])"
            ]
          },
          "metadata": {
            "tags": []
          },
          "execution_count": 31
        }
      ]
    },
    {
      "cell_type": "code",
      "metadata": {
        "colab": {
          "base_uri": "https://localhost:8080/"
        },
        "id": "maC80YVL4ScY",
        "outputId": "9e07d936-6863-453b-8336-786ca4cc7193"
      },
      "source": [
        "np.random.randn(10)"
      ],
      "execution_count": 34,
      "outputs": [
        {
          "output_type": "execute_result",
          "data": {
            "text/plain": [
              "array([ 0.71118109,  0.02991723,  0.10256724,  0.28004208, -0.43596257,\n",
              "       -0.45508682, -1.11157804, -1.25393274,  0.42384235,  0.07417379])"
            ]
          },
          "metadata": {
            "tags": []
          },
          "execution_count": 34
        }
      ]
    },
    {
      "cell_type": "code",
      "metadata": {
        "colab": {
          "base_uri": "https://localhost:8080/"
        },
        "id": "m6UqbxtD54w3",
        "outputId": "82f3675c-f90b-4d1f-cfd5-77ea05e22dfa"
      },
      "source": [
        "np.random.randint(0, 1000)"
      ],
      "execution_count": 35,
      "outputs": [
        {
          "output_type": "execute_result",
          "data": {
            "text/plain": [
              "830"
            ]
          },
          "metadata": {
            "tags": []
          },
          "execution_count": 35
        }
      ]
    },
    {
      "cell_type": "code",
      "metadata": {
        "colab": {
          "base_uri": "https://localhost:8080/"
        },
        "id": "Dz1s2tY86L4e",
        "outputId": "3b32a2bf-4ca1-48f2-c483-22c7c2029a96"
      },
      "source": [
        "np.random.randint(0, 10000, 10)"
      ],
      "execution_count": 36,
      "outputs": [
        {
          "output_type": "execute_result",
          "data": {
            "text/plain": [
              "array([5284, 6741, 3415, 8505, 6524, 1328, 2416,  407, 7120, 5650])"
            ]
          },
          "metadata": {
            "tags": []
          },
          "execution_count": 36
        }
      ]
    },
    {
      "cell_type": "code",
      "metadata": {
        "id": "v4lZurnY6PUO"
      },
      "source": [
        "np.random.seed(42)"
      ],
      "execution_count": 54,
      "outputs": []
    },
    {
      "cell_type": "code",
      "metadata": {
        "colab": {
          "base_uri": "https://localhost:8080/"
        },
        "id": "vqqwYOOJ6uC-",
        "outputId": "b1a09b4a-35ed-4a73-bcb0-7286cd78cb31"
      },
      "source": [
        "np.random.rand(4)"
      ],
      "execution_count": 55,
      "outputs": [
        {
          "output_type": "execute_result",
          "data": {
            "text/plain": [
              "array([0.37454012, 0.95071431, 0.73199394, 0.59865848])"
            ]
          },
          "metadata": {
            "tags": []
          },
          "execution_count": 55
        }
      ]
    },
    {
      "cell_type": "code",
      "metadata": {
        "colab": {
          "base_uri": "https://localhost:8080/"
        },
        "id": "-JPRHH3E60_F",
        "outputId": "b12ac491-996f-461c-c83f-ad5e70e37d14"
      },
      "source": [
        "np.random.rand(4,5)"
      ],
      "execution_count": 43,
      "outputs": [
        {
          "output_type": "execute_result",
          "data": {
            "text/plain": [
              "array([[0.72087685, 0.24776828, 0.62277995, 0.14244882, 0.20117628],\n",
              "       [0.08121773, 0.95347229, 0.05573827, 0.59953648, 0.72299763],\n",
              "       [0.97028972, 0.82156946, 0.52755107, 0.33147673, 0.3539822 ],\n",
              "       [0.0790303 , 0.55591438, 0.16579446, 0.29523783, 0.84060849]])"
            ]
          },
          "metadata": {
            "tags": []
          },
          "execution_count": 43
        }
      ]
    },
    {
      "cell_type": "code",
      "metadata": {
        "colab": {
          "base_uri": "https://localhost:8080/"
        },
        "id": "FHbKSAfl7lY8",
        "outputId": "6e7823cd-f51c-48b7-c302-31745491555b"
      },
      "source": [
        "np.random.seed(40)\n",
        "print(np.random.rand(4))\n",
        "print(np.random.rand(4))"
      ],
      "execution_count": 58,
      "outputs": [
        {
          "output_type": "stream",
          "text": [
            "[0.40768703 0.05536604 0.78853488 0.28730518]\n",
            "[0.45035059 0.30391231 0.52639952 0.62381221]\n"
          ],
          "name": "stdout"
        }
      ]
    },
    {
      "cell_type": "code",
      "metadata": {
        "colab": {
          "base_uri": "https://localhost:8080/"
        },
        "id": "jbvfFj3G8Ipf",
        "outputId": "3ca1df9e-0e6a-4baf-dccf-aced60a53f2b"
      },
      "source": [
        "np.random.seed(40)\n",
        "print(np.random.rand(4))\n",
        "np.random.seed(40)\n",
        "print(np.random.rand(4))"
      ],
      "execution_count": 60,
      "outputs": [
        {
          "output_type": "stream",
          "text": [
            "[0.40768703 0.05536604 0.78853488 0.28730518]\n",
            "[0.40768703 0.05536604 0.78853488 0.28730518]\n"
          ],
          "name": "stdout"
        }
      ]
    },
    {
      "cell_type": "code",
      "metadata": {
        "colab": {
          "base_uri": "https://localhost:8080/"
        },
        "id": "TQ3i0Dcm8S4_",
        "outputId": "d8f244c9-89ae-4907-bb36-9107e8b4c9cf"
      },
      "source": [
        "np.random.seed(40)\n",
        "print(np.random.rand(5))\n",
        "print(np.random.rand(4))\n",
        "np.random.seed(40)\n",
        "print(np.random.rand(4))\n",
        "print(np.random.rand(3))"
      ],
      "execution_count": 63,
      "outputs": [
        {
          "output_type": "stream",
          "text": [
            "[0.40768703 0.05536604 0.78853488 0.28730518 0.45035059]\n",
            "[0.30391231 0.52639952 0.62381221 0.77677546]\n",
            "[0.40768703 0.05536604 0.78853488 0.28730518]\n",
            "[0.45035059 0.30391231 0.52639952]\n"
          ],
          "name": "stdout"
        }
      ]
    },
    {
      "cell_type": "code",
      "metadata": {
        "id": "lZDnOnuv9R57"
      },
      "source": [
        "import random as rd"
      ],
      "execution_count": 64,
      "outputs": []
    },
    {
      "cell_type": "code",
      "metadata": {
        "colab": {
          "base_uri": "https://localhost:8080/"
        },
        "id": "1ELjq-IS_UDZ",
        "outputId": "22729633-250b-4ee4-97b3-553e44268003"
      },
      "source": [
        "print(rd.randint(1,2))\n",
        "print(np.random.randint(1,2))"
      ],
      "execution_count": 71,
      "outputs": [
        {
          "output_type": "stream",
          "text": [
            "2\n",
            "1\n"
          ],
          "name": "stdout"
        }
      ]
    },
    {
      "cell_type": "code",
      "metadata": {
        "id": "x-O_xusi_WiO"
      },
      "source": [
        "arr = np.arange(30, 60).reshape(3, 10)"
      ],
      "execution_count": 78,
      "outputs": []
    },
    {
      "cell_type": "code",
      "metadata": {
        "colab": {
          "base_uri": "https://localhost:8080/"
        },
        "id": "2ss4nKy5AMvk",
        "outputId": "358ffa5a-26f1-426f-92dc-0d502a08e93e"
      },
      "source": [
        "arr.max()"
      ],
      "execution_count": 79,
      "outputs": [
        {
          "output_type": "execute_result",
          "data": {
            "text/plain": [
              "59"
            ]
          },
          "metadata": {
            "tags": []
          },
          "execution_count": 79
        }
      ]
    },
    {
      "cell_type": "code",
      "metadata": {
        "colab": {
          "base_uri": "https://localhost:8080/"
        },
        "id": "ISvJkq3TAhlQ",
        "outputId": "5192d847-b093-4cf9-a863-6e9dda2f77e0"
      },
      "source": [
        "arr.min()"
      ],
      "execution_count": 80,
      "outputs": [
        {
          "output_type": "execute_result",
          "data": {
            "text/plain": [
              "30"
            ]
          },
          "metadata": {
            "tags": []
          },
          "execution_count": 80
        }
      ]
    },
    {
      "cell_type": "code",
      "metadata": {
        "colab": {
          "base_uri": "https://localhost:8080/"
        },
        "id": "wxfqRpXXAizN",
        "outputId": "3f7924e9-35a5-4916-a5c4-cfa5c9947a3a"
      },
      "source": [
        "arr.argmax()"
      ],
      "execution_count": 81,
      "outputs": [
        {
          "output_type": "execute_result",
          "data": {
            "text/plain": [
              "29"
            ]
          },
          "metadata": {
            "tags": []
          },
          "execution_count": 81
        }
      ]
    },
    {
      "cell_type": "code",
      "metadata": {
        "colab": {
          "base_uri": "https://localhost:8080/"
        },
        "id": "ddkVc8-FAmaq",
        "outputId": "1d6d9913-3929-4624-d0ca-9c0d01960b27"
      },
      "source": [
        "arr.argmin()"
      ],
      "execution_count": 82,
      "outputs": [
        {
          "output_type": "execute_result",
          "data": {
            "text/plain": [
              "0"
            ]
          },
          "metadata": {
            "tags": []
          },
          "execution_count": 82
        }
      ]
    },
    {
      "cell_type": "code",
      "metadata": {
        "colab": {
          "base_uri": "https://localhost:8080/"
        },
        "id": "mDEKZAEEApLa",
        "outputId": "3437e22d-8006-4ce7-8b96-b38bd51e8ad0"
      },
      "source": [
        "arr.shape"
      ],
      "execution_count": 83,
      "outputs": [
        {
          "output_type": "execute_result",
          "data": {
            "text/plain": [
              "(3, 10)"
            ]
          },
          "metadata": {
            "tags": []
          },
          "execution_count": 83
        }
      ]
    },
    {
      "cell_type": "code",
      "metadata": {
        "colab": {
          "base_uri": "https://localhost:8080/"
        },
        "id": "NvpHeyaGCKFv",
        "outputId": "2dfbdba6-8fe5-4367-a9c0-c6743f534415"
      },
      "source": [
        "arr.dtype"
      ],
      "execution_count": 84,
      "outputs": [
        {
          "output_type": "execute_result",
          "data": {
            "text/plain": [
              "dtype('int64')"
            ]
          },
          "metadata": {
            "tags": []
          },
          "execution_count": 84
        }
      ]
    },
    {
      "cell_type": "code",
      "metadata": {
        "id": "rTRESgEoCM8J"
      },
      "source": [
        ""
      ],
      "execution_count": null,
      "outputs": []
    }
  ]
}